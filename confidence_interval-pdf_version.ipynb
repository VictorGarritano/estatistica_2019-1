{
 "cells": [
  {
   "cell_type": "code",
   "execution_count": 1,
   "metadata": {},
   "outputs": [],
   "source": [
    "import json\n",
    "import pandas as pd"
   ]
  },
  {
   "cell_type": "code",
   "execution_count": 2,
   "metadata": {},
   "outputs": [],
   "source": [
    "with open('data.json', 'r') as f:\n",
    "    data = json.load(f)"
   ]
  },
  {
   "cell_type": "code",
   "execution_count": 3,
   "metadata": {},
   "outputs": [],
   "source": [
    "l_json = list(map(json.loads, data))"
   ]
  },
  {
   "cell_type": "code",
   "execution_count": 4,
   "metadata": {},
   "outputs": [],
   "source": [
    "df = pd.DataFrame(l_json).fillna(0.0)"
   ]
  },
  {
   "cell_type": "code",
   "execution_count": 5,
   "metadata": {},
   "outputs": [
    {
     "data": {
      "text/html": [
       "<div>\n",
       "<style scoped>\n",
       "    .dataframe tbody tr th:only-of-type {\n",
       "        vertical-align: middle;\n",
       "    }\n",
       "\n",
       "    .dataframe tbody tr th {\n",
       "        vertical-align: top;\n",
       "    }\n",
       "\n",
       "    .dataframe thead th {\n",
       "        text-align: right;\n",
       "    }\n",
       "</style>\n",
       "<table border=\"1\" class=\"dataframe\">\n",
       "  <thead>\n",
       "    <tr style=\"text-align: right;\">\n",
       "      <th></th>\n",
       "      <th>Flush</th>\n",
       "      <th>Four of a Kind</th>\n",
       "      <th>Full House</th>\n",
       "      <th>High Card</th>\n",
       "      <th>Pair</th>\n",
       "      <th>Royal Flush</th>\n",
       "      <th>Straight</th>\n",
       "      <th>Straight Flush</th>\n",
       "      <th>Three of a Kind</th>\n",
       "      <th>Two Pair</th>\n",
       "    </tr>\n",
       "  </thead>\n",
       "  <tbody>\n",
       "    <tr>\n",
       "      <th>0</th>\n",
       "      <td>0.00216</td>\n",
       "      <td>0.00019</td>\n",
       "      <td>0.00138</td>\n",
       "      <td>0.50098</td>\n",
       "      <td>0.42331</td>\n",
       "      <td>0.00000</td>\n",
       "      <td>0.00390</td>\n",
       "      <td>0.00000</td>\n",
       "      <td>0.02093</td>\n",
       "      <td>0.04715</td>\n",
       "    </tr>\n",
       "    <tr>\n",
       "      <th>1</th>\n",
       "      <td>0.00192</td>\n",
       "      <td>0.00024</td>\n",
       "      <td>0.00127</td>\n",
       "      <td>0.50052</td>\n",
       "      <td>0.42349</td>\n",
       "      <td>0.00000</td>\n",
       "      <td>0.00365</td>\n",
       "      <td>0.00002</td>\n",
       "      <td>0.02084</td>\n",
       "      <td>0.04805</td>\n",
       "    </tr>\n",
       "    <tr>\n",
       "      <th>2</th>\n",
       "      <td>0.00187</td>\n",
       "      <td>0.00020</td>\n",
       "      <td>0.00138</td>\n",
       "      <td>0.50085</td>\n",
       "      <td>0.42322</td>\n",
       "      <td>0.00000</td>\n",
       "      <td>0.00399</td>\n",
       "      <td>0.00000</td>\n",
       "      <td>0.02114</td>\n",
       "      <td>0.04735</td>\n",
       "    </tr>\n",
       "    <tr>\n",
       "      <th>3</th>\n",
       "      <td>0.00194</td>\n",
       "      <td>0.00026</td>\n",
       "      <td>0.00129</td>\n",
       "      <td>0.50075</td>\n",
       "      <td>0.42346</td>\n",
       "      <td>0.00000</td>\n",
       "      <td>0.00376</td>\n",
       "      <td>0.00002</td>\n",
       "      <td>0.02086</td>\n",
       "      <td>0.04766</td>\n",
       "    </tr>\n",
       "    <tr>\n",
       "      <th>4</th>\n",
       "      <td>0.00217</td>\n",
       "      <td>0.00026</td>\n",
       "      <td>0.00136</td>\n",
       "      <td>0.50054</td>\n",
       "      <td>0.42258</td>\n",
       "      <td>0.00001</td>\n",
       "      <td>0.00370</td>\n",
       "      <td>0.00001</td>\n",
       "      <td>0.02140</td>\n",
       "      <td>0.04797</td>\n",
       "    </tr>\n",
       "  </tbody>\n",
       "</table>\n",
       "</div>"
      ],
      "text/plain": [
       "     Flush  Four of a Kind  Full House  High Card     Pair  Royal Flush  \\\n",
       "0  0.00216         0.00019     0.00138    0.50098  0.42331      0.00000   \n",
       "1  0.00192         0.00024     0.00127    0.50052  0.42349      0.00000   \n",
       "2  0.00187         0.00020     0.00138    0.50085  0.42322      0.00000   \n",
       "3  0.00194         0.00026     0.00129    0.50075  0.42346      0.00000   \n",
       "4  0.00217         0.00026     0.00136    0.50054  0.42258      0.00001   \n",
       "\n",
       "   Straight  Straight Flush  Three of a Kind  Two Pair  \n",
       "0   0.00390         0.00000          0.02093   0.04715  \n",
       "1   0.00365         0.00002          0.02084   0.04805  \n",
       "2   0.00399         0.00000          0.02114   0.04735  \n",
       "3   0.00376         0.00002          0.02086   0.04766  \n",
       "4   0.00370         0.00001          0.02140   0.04797  "
      ]
     },
     "execution_count": 5,
     "metadata": {},
     "output_type": "execute_result"
    }
   ],
   "source": [
    "df.head()"
   ]
  },
  {
   "cell_type": "code",
   "execution_count": 6,
   "metadata": {},
   "outputs": [],
   "source": [
    "import numpy as np\n",
    "import scipy.stats as st\n",
    "\n",
    "\n",
    "def mean_confidence_interval(df, col, confidence=0.95):\n",
    "    a = 1.0 * np.array(df[col])\n",
    "    n = len(a)\n",
    "    return (col, np.mean(a), st.t.interval(0.95, len(a)-1,\n",
    "                                           loc=np.nanmean(a), scale=st.sem(a)))"
   ]
  },
  {
   "cell_type": "code",
   "execution_count": 7,
   "metadata": {},
   "outputs": [],
   "source": [
    "results = []\n",
    "\n",
    "for col in df.columns:\n",
    "    results.append(mean_confidence_interval(df, col))"
   ]
  },
  {
   "cell_type": "code",
   "execution_count": 8,
   "metadata": {},
   "outputs": [],
   "source": [
    "from tabulate import tabulate"
   ]
  },
  {
   "cell_type": "code",
   "execution_count": 9,
   "metadata": {},
   "outputs": [
    {
     "name": "stdout",
     "output_type": "stream",
     "text": [
      "Poker Hand             mean  confidence interval\n",
      "---------------  ----------  ------------------------------------------------\n",
      "Flush            0.00196917  (0.0019606693740965102, 0.00197767062590349)\n",
      "Four of a Kind   0.00023912  (0.00023619654254508157, 0.00024204345745491843)\n",
      "Full House       0.00143936  (0.0014321630900070786, 0.0014465569099929214)\n",
      "High Card        0.501223    (0.5011272274490839, 0.5013180325509161)\n",
      "Pair             0.422562    (0.42246689998281994, 0.42265790001718007)\n",
      "Royal Flush      1.55e-06    (1.313604941231858e-06, 1.7863950587681424e-06)\n",
      "Straight         0.00392786  (0.0039159069202801735, 0.003939813079719827)\n",
      "Straight Flush   1.376e-05   (1.3037394573442739e-05, 1.4482605426557266e-05)\n",
      "Three of a Kind  0.0211085   (0.02108059159496706, 0.02113638840503294)\n",
      "Two Pair         0.0475157   (0.04747449464894366, 0.04755682535105633)\n"
     ]
    }
   ],
   "source": [
    "print(tabulate(results, headers=['Poker Hand', 'mean', 'confidence interval']))"
   ]
  },
  {
   "cell_type": "code",
   "execution_count": 11,
   "metadata": {},
   "outputs": [],
   "source": [
    "df_results = pd.DataFrame.from_records(results, columns=['Poker Hand', 'mean', 'confidence interval'])"
   ]
  },
  {
   "cell_type": "code",
   "execution_count": 12,
   "metadata": {},
   "outputs": [
    {
     "data": {
      "text/html": [
       "<div>\n",
       "<style scoped>\n",
       "    .dataframe tbody tr th:only-of-type {\n",
       "        vertical-align: middle;\n",
       "    }\n",
       "\n",
       "    .dataframe tbody tr th {\n",
       "        vertical-align: top;\n",
       "    }\n",
       "\n",
       "    .dataframe thead th {\n",
       "        text-align: right;\n",
       "    }\n",
       "</style>\n",
       "<table border=\"1\" class=\"dataframe\">\n",
       "  <thead>\n",
       "    <tr style=\"text-align: right;\">\n",
       "      <th></th>\n",
       "      <th>Poker Hand</th>\n",
       "      <th>mean</th>\n",
       "      <th>confidence interval</th>\n",
       "    </tr>\n",
       "  </thead>\n",
       "  <tbody>\n",
       "    <tr>\n",
       "      <th>0</th>\n",
       "      <td>Flush</td>\n",
       "      <td>0.001969</td>\n",
       "      <td>(0.0019606693740965102, 0.00197767062590349)</td>\n",
       "    </tr>\n",
       "    <tr>\n",
       "      <th>1</th>\n",
       "      <td>Four of a Kind</td>\n",
       "      <td>0.000239</td>\n",
       "      <td>(0.00023619654254508157, 0.00024204345745491843)</td>\n",
       "    </tr>\n",
       "    <tr>\n",
       "      <th>2</th>\n",
       "      <td>Full House</td>\n",
       "      <td>0.001439</td>\n",
       "      <td>(0.0014321630900070786, 0.0014465569099929214)</td>\n",
       "    </tr>\n",
       "    <tr>\n",
       "      <th>3</th>\n",
       "      <td>High Card</td>\n",
       "      <td>0.501223</td>\n",
       "      <td>(0.5011272274490839, 0.5013180325509161)</td>\n",
       "    </tr>\n",
       "    <tr>\n",
       "      <th>4</th>\n",
       "      <td>Pair</td>\n",
       "      <td>0.422562</td>\n",
       "      <td>(0.42246689998281994, 0.42265790001718007)</td>\n",
       "    </tr>\n",
       "    <tr>\n",
       "      <th>5</th>\n",
       "      <td>Royal Flush</td>\n",
       "      <td>0.000002</td>\n",
       "      <td>(1.313604941231858e-06, 1.7863950587681424e-06)</td>\n",
       "    </tr>\n",
       "    <tr>\n",
       "      <th>6</th>\n",
       "      <td>Straight</td>\n",
       "      <td>0.003928</td>\n",
       "      <td>(0.0039159069202801735, 0.003939813079719827)</td>\n",
       "    </tr>\n",
       "    <tr>\n",
       "      <th>7</th>\n",
       "      <td>Straight Flush</td>\n",
       "      <td>0.000014</td>\n",
       "      <td>(1.3037394573442739e-05, 1.4482605426557266e-05)</td>\n",
       "    </tr>\n",
       "    <tr>\n",
       "      <th>8</th>\n",
       "      <td>Three of a Kind</td>\n",
       "      <td>0.021108</td>\n",
       "      <td>(0.02108059159496706, 0.02113638840503294)</td>\n",
       "    </tr>\n",
       "    <tr>\n",
       "      <th>9</th>\n",
       "      <td>Two Pair</td>\n",
       "      <td>0.047516</td>\n",
       "      <td>(0.04747449464894366, 0.04755682535105633)</td>\n",
       "    </tr>\n",
       "  </tbody>\n",
       "</table>\n",
       "</div>"
      ],
      "text/plain": [
       "        Poker Hand      mean                               confidence interval\n",
       "0            Flush  0.001969      (0.0019606693740965102, 0.00197767062590349)\n",
       "1   Four of a Kind  0.000239  (0.00023619654254508157, 0.00024204345745491843)\n",
       "2       Full House  0.001439    (0.0014321630900070786, 0.0014465569099929214)\n",
       "3        High Card  0.501223          (0.5011272274490839, 0.5013180325509161)\n",
       "4             Pair  0.422562        (0.42246689998281994, 0.42265790001718007)\n",
       "5      Royal Flush  0.000002   (1.313604941231858e-06, 1.7863950587681424e-06)\n",
       "6         Straight  0.003928     (0.0039159069202801735, 0.003939813079719827)\n",
       "7   Straight Flush  0.000014  (1.3037394573442739e-05, 1.4482605426557266e-05)\n",
       "8  Three of a Kind  0.021108        (0.02108059159496706, 0.02113638840503294)\n",
       "9         Two Pair  0.047516        (0.04747449464894366, 0.04755682535105633)"
      ]
     },
     "execution_count": 12,
     "metadata": {},
     "output_type": "execute_result"
    }
   ],
   "source": [
    "df_results"
   ]
  },
  {
   "cell_type": "code",
   "execution_count": 13,
   "metadata": {},
   "outputs": [
    {
     "data": {
      "text/plain": [
       "'[{\"Poker Hand\":\"Flush\",\"mean\":0.00196917,\"confidence interval\":[0.0019606694,0.0019776706]},{\"Poker Hand\":\"Four of a Kind\",\"mean\":0.00023912,\"confidence interval\":[0.0002361965,0.0002420435]},{\"Poker Hand\":\"Full House\",\"mean\":0.00143936,\"confidence interval\":[0.0014321631,0.0014465569]},{\"Poker Hand\":\"High Card\",\"mean\":0.50122263,\"confidence interval\":[0.5011272274,0.5013180326]},{\"Poker Hand\":\"Pair\",\"mean\":0.4225624,\"confidence interval\":[0.4224669,0.4226579]},{\"Poker Hand\":\"Royal Flush\",\"mean\":0.00000155,\"confidence interval\":[0.0000013136,0.0000017864]},{\"Poker Hand\":\"Straight\",\"mean\":0.00392786,\"confidence interval\":[0.0039159069,0.0039398131]},{\"Poker Hand\":\"Straight Flush\",\"mean\":0.00001376,\"confidence interval\":[0.0000130374,0.0000144826]},{\"Poker Hand\":\"Three of a Kind\",\"mean\":0.02110849,\"confidence interval\":[0.0210805916,0.0211363884]},{\"Poker Hand\":\"Two Pair\",\"mean\":0.04751566,\"confidence interval\":[0.0474744946,0.0475568254]}]'"
      ]
     },
     "execution_count": 13,
     "metadata": {},
     "output_type": "execute_result"
    }
   ],
   "source": [
    "df_results.to_json(orient='records')"
   ]
  },
  {
   "cell_type": "code",
   "execution_count": null,
   "metadata": {},
   "outputs": [],
   "source": []
  }
 ],
 "metadata": {
  "kernelspec": {
   "display_name": "Python 3",
   "language": "python",
   "name": "python3"
  },
  "language_info": {
   "codemirror_mode": {
    "name": "ipython",
    "version": 3
   },
   "file_extension": ".py",
   "mimetype": "text/x-python",
   "name": "python",
   "nbconvert_exporter": "python",
   "pygments_lexer": "ipython3",
   "version": "3.5.2"
  }
 },
 "nbformat": 4,
 "nbformat_minor": 2
}
