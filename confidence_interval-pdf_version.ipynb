{
 "cells": [
  {
   "cell_type": "code",
   "execution_count": 1,
   "metadata": {},
   "outputs": [],
   "source": [
    "import json\n",
    "import pandas as pd"
   ]
  },
  {
   "cell_type": "code",
   "execution_count": 2,
   "metadata": {},
   "outputs": [],
   "source": [
    "with open('data.json', 'r') as f:\n",
    "    data = json.load(f)"
   ]
  },
  {
   "cell_type": "code",
   "execution_count": 3,
   "metadata": {},
   "outputs": [],
   "source": [
    "l_json = list(map(json.loads, data))"
   ]
  },
  {
   "cell_type": "code",
   "execution_count": 4,
   "metadata": {},
   "outputs": [],
   "source": [
    "df = pd.DataFrame(l_json).fillna(0.0)"
   ]
  },
  {
   "cell_type": "code",
   "execution_count": 5,
   "metadata": {},
   "outputs": [
    {
     "data": {
      "text/html": [
       "<div>\n",
       "<style scoped>\n",
       "    .dataframe tbody tr th:only-of-type {\n",
       "        vertical-align: middle;\n",
       "    }\n",
       "\n",
       "    .dataframe tbody tr th {\n",
       "        vertical-align: top;\n",
       "    }\n",
       "\n",
       "    .dataframe thead th {\n",
       "        text-align: right;\n",
       "    }\n",
       "</style>\n",
       "<table border=\"1\" class=\"dataframe\">\n",
       "  <thead>\n",
       "    <tr style=\"text-align: right;\">\n",
       "      <th></th>\n",
       "      <th>Flush</th>\n",
       "      <th>Four of a Kind</th>\n",
       "      <th>Full House</th>\n",
       "      <th>High Card</th>\n",
       "      <th>Pair</th>\n",
       "      <th>Royal Flush</th>\n",
       "      <th>Straight</th>\n",
       "      <th>Straight Flush</th>\n",
       "      <th>Three of a Kind</th>\n",
       "      <th>Two Pair</th>\n",
       "    </tr>\n",
       "  </thead>\n",
       "  <tbody>\n",
       "    <tr>\n",
       "      <th>0</th>\n",
       "      <td>0.00216</td>\n",
       "      <td>0.00019</td>\n",
       "      <td>0.00138</td>\n",
       "      <td>0.50098</td>\n",
       "      <td>0.42331</td>\n",
       "      <td>0.00000</td>\n",
       "      <td>0.00390</td>\n",
       "      <td>0.00000</td>\n",
       "      <td>0.02093</td>\n",
       "      <td>0.04715</td>\n",
       "    </tr>\n",
       "    <tr>\n",
       "      <th>1</th>\n",
       "      <td>0.00192</td>\n",
       "      <td>0.00024</td>\n",
       "      <td>0.00127</td>\n",
       "      <td>0.50052</td>\n",
       "      <td>0.42349</td>\n",
       "      <td>0.00000</td>\n",
       "      <td>0.00365</td>\n",
       "      <td>0.00002</td>\n",
       "      <td>0.02084</td>\n",
       "      <td>0.04805</td>\n",
       "    </tr>\n",
       "    <tr>\n",
       "      <th>2</th>\n",
       "      <td>0.00187</td>\n",
       "      <td>0.00020</td>\n",
       "      <td>0.00138</td>\n",
       "      <td>0.50085</td>\n",
       "      <td>0.42322</td>\n",
       "      <td>0.00000</td>\n",
       "      <td>0.00399</td>\n",
       "      <td>0.00000</td>\n",
       "      <td>0.02114</td>\n",
       "      <td>0.04735</td>\n",
       "    </tr>\n",
       "    <tr>\n",
       "      <th>3</th>\n",
       "      <td>0.00194</td>\n",
       "      <td>0.00026</td>\n",
       "      <td>0.00129</td>\n",
       "      <td>0.50075</td>\n",
       "      <td>0.42346</td>\n",
       "      <td>0.00000</td>\n",
       "      <td>0.00376</td>\n",
       "      <td>0.00002</td>\n",
       "      <td>0.02086</td>\n",
       "      <td>0.04766</td>\n",
       "    </tr>\n",
       "    <tr>\n",
       "      <th>4</th>\n",
       "      <td>0.00217</td>\n",
       "      <td>0.00026</td>\n",
       "      <td>0.00136</td>\n",
       "      <td>0.50054</td>\n",
       "      <td>0.42258</td>\n",
       "      <td>0.00001</td>\n",
       "      <td>0.00370</td>\n",
       "      <td>0.00001</td>\n",
       "      <td>0.02140</td>\n",
       "      <td>0.04797</td>\n",
       "    </tr>\n",
       "  </tbody>\n",
       "</table>\n",
       "</div>"
      ],
      "text/plain": [
       "     Flush  Four of a Kind  Full House  High Card     Pair  Royal Flush  \\\n",
       "0  0.00216         0.00019     0.00138    0.50098  0.42331      0.00000   \n",
       "1  0.00192         0.00024     0.00127    0.50052  0.42349      0.00000   \n",
       "2  0.00187         0.00020     0.00138    0.50085  0.42322      0.00000   \n",
       "3  0.00194         0.00026     0.00129    0.50075  0.42346      0.00000   \n",
       "4  0.00217         0.00026     0.00136    0.50054  0.42258      0.00001   \n",
       "\n",
       "   Straight  Straight Flush  Three of a Kind  Two Pair  \n",
       "0   0.00390         0.00000          0.02093   0.04715  \n",
       "1   0.00365         0.00002          0.02084   0.04805  \n",
       "2   0.00399         0.00000          0.02114   0.04735  \n",
       "3   0.00376         0.00002          0.02086   0.04766  \n",
       "4   0.00370         0.00001          0.02140   0.04797  "
      ]
     },
     "execution_count": 5,
     "metadata": {},
     "output_type": "execute_result"
    }
   ],
   "source": [
    "df.head()"
   ]
  },
  {
   "cell_type": "code",
   "execution_count": 6,
   "metadata": {},
   "outputs": [],
   "source": [
    "import numpy as np\n",
    "import scipy.stats as st\n",
    "\n",
    "\n",
    "def mean_confidence_interval(df, col, confidence=0.95):\n",
    "    a = 1.0 * np.array(df[col])\n",
    "    n = len(a)\n",
    "    return (col, np.mean(a), st.t.interval(0.95, len(a)-1,\n",
    "                                           loc=np.nanmean(a), scale=st.sem(a)))"
   ]
  },
  {
   "cell_type": "code",
   "execution_count": 7,
   "metadata": {},
   "outputs": [],
   "source": [
    "results = []\n",
    "\n",
    "for col in df.columns:\n",
    "    results.append(mean_confidence_interval(df, col))"
   ]
  },
  {
   "cell_type": "code",
   "execution_count": 8,
   "metadata": {},
   "outputs": [],
   "source": [
    "from tabulate import tabulate"
   ]
  },
  {
   "cell_type": "code",
   "execution_count": 9,
   "metadata": {},
   "outputs": [
    {
     "name": "stdout",
     "output_type": "stream",
     "text": [
      "Poker Hand             mean  confidence interval\n",
      "---------------  ----------  ------------------------------------------------\n",
      "Flush            0.00196917  (0.0019606693740965102, 0.00197767062590349)\n",
      "Four of a Kind   0.00023912  (0.00023619654254508157, 0.00024204345745491843)\n",
      "Full House       0.00143936  (0.0014321630900070786, 0.0014465569099929214)\n",
      "High Card        0.501223    (0.5011272274490839, 0.5013180325509161)\n",
      "Pair             0.422562    (0.42246689998281994, 0.42265790001718007)\n",
      "Royal Flush      1.55e-06    (1.313604941231858e-06, 1.7863950587681424e-06)\n",
      "Straight         0.00392786  (0.0039159069202801735, 0.003939813079719827)\n",
      "Straight Flush   1.376e-05   (1.3037394573442739e-05, 1.4482605426557266e-05)\n",
      "Three of a Kind  0.0211085   (0.02108059159496706, 0.02113638840503294)\n",
      "Two Pair         0.0475157   (0.04747449464894366, 0.04755682535105633)\n"
     ]
    }
   ],
   "source": [
    "print(tabulate(results, headers=['Poker Hand', 'mean', 'confidence interval']))"
   ]
  },
  {
   "cell_type": "code",
   "execution_count": null,
   "metadata": {},
   "outputs": [],
   "source": []
  }
 ],
 "metadata": {
  "kernelspec": {
   "display_name": "Python 3",
   "language": "python",
   "name": "python3"
  },
  "language_info": {
   "codemirror_mode": {
    "name": "ipython",
    "version": 3
   },
   "file_extension": ".py",
   "mimetype": "text/x-python",
   "name": "python",
   "nbconvert_exporter": "python",
   "pygments_lexer": "ipython3",
   "version": "3.5.2"
  }
 },
 "nbformat": 4,
 "nbformat_minor": 2
}
